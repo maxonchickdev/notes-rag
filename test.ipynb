{
 "cells": [
  {
   "cell_type": "code",
   "execution_count": 78,
   "metadata": {},
   "outputs": [
    {
     "name": "stderr",
     "output_type": "stream",
     "text": [
      "huggingface/tokenizers: The current process just got forked, after parallelism has already been used. Disabling parallelism to avoid deadlocks...\n",
      "To disable this warning, you can either:\n",
      "\t- Avoid using `tokenizers` before the fork if possible\n",
      "\t- Explicitly set the environment variable TOKENIZERS_PARALLELISM=(true | false)\n"
     ]
    },
    {
     "name": "stdout",
     "output_type": "stream",
     "text": [
      "Note: you may need to restart the kernel to use updated packages.\n"
     ]
    },
    {
     "name": "stderr",
     "output_type": "stream",
     "text": [
      "huggingface/tokenizers: The current process just got forked, after parallelism has already been used. Disabling parallelism to avoid deadlocks...\n",
      "To disable this warning, you can either:\n",
      "\t- Avoid using `tokenizers` before the fork if possible\n",
      "\t- Explicitly set the environment variable TOKENIZERS_PARALLELISM=(true | false)\n"
     ]
    },
    {
     "name": "stdout",
     "output_type": "stream",
     "text": [
      "Note: you may need to restart the kernel to use updated packages.\n"
     ]
    },
    {
     "name": "stderr",
     "output_type": "stream",
     "text": [
      "huggingface/tokenizers: The current process just got forked, after parallelism has already been used. Disabling parallelism to avoid deadlocks...\n",
      "To disable this warning, you can either:\n",
      "\t- Avoid using `tokenizers` before the fork if possible\n",
      "\t- Explicitly set the environment variable TOKENIZERS_PARALLELISM=(true | false)\n"
     ]
    },
    {
     "name": "stdout",
     "output_type": "stream",
     "text": [
      "Note: you may need to restart the kernel to use updated packages.\n"
     ]
    },
    {
     "name": "stderr",
     "output_type": "stream",
     "text": [
      "huggingface/tokenizers: The current process just got forked, after parallelism has already been used. Disabling parallelism to avoid deadlocks...\n",
      "To disable this warning, you can either:\n",
      "\t- Avoid using `tokenizers` before the fork if possible\n",
      "\t- Explicitly set the environment variable TOKENIZERS_PARALLELISM=(true | false)\n"
     ]
    },
    {
     "name": "stdout",
     "output_type": "stream",
     "text": [
      "Note: you may need to restart the kernel to use updated packages.\n"
     ]
    },
    {
     "name": "stderr",
     "output_type": "stream",
     "text": [
      "huggingface/tokenizers: The current process just got forked, after parallelism has already been used. Disabling parallelism to avoid deadlocks...\n",
      "To disable this warning, you can either:\n",
      "\t- Avoid using `tokenizers` before the fork if possible\n",
      "\t- Explicitly set the environment variable TOKENIZERS_PARALLELISM=(true | false)\n"
     ]
    },
    {
     "name": "stdout",
     "output_type": "stream",
     "text": [
      "Note: you may need to restart the kernel to use updated packages.\n"
     ]
    },
    {
     "name": "stderr",
     "output_type": "stream",
     "text": [
      "huggingface/tokenizers: The current process just got forked, after parallelism has already been used. Disabling parallelism to avoid deadlocks...\n",
      "To disable this warning, you can either:\n",
      "\t- Avoid using `tokenizers` before the fork if possible\n",
      "\t- Explicitly set the environment variable TOKENIZERS_PARALLELISM=(true | false)\n"
     ]
    },
    {
     "name": "stdout",
     "output_type": "stream",
     "text": [
      "Note: you may need to restart the kernel to use updated packages.\n"
     ]
    },
    {
     "name": "stderr",
     "output_type": "stream",
     "text": [
      "huggingface/tokenizers: The current process just got forked, after parallelism has already been used. Disabling parallelism to avoid deadlocks...\n",
      "To disable this warning, you can either:\n",
      "\t- Avoid using `tokenizers` before the fork if possible\n",
      "\t- Explicitly set the environment variable TOKENIZERS_PARALLELISM=(true | false)\n"
     ]
    },
    {
     "name": "stdout",
     "output_type": "stream",
     "text": [
      "Note: you may need to restart the kernel to use updated packages.\n"
     ]
    },
    {
     "name": "stderr",
     "output_type": "stream",
     "text": [
      "huggingface/tokenizers: The current process just got forked, after parallelism has already been used. Disabling parallelism to avoid deadlocks...\n",
      "To disable this warning, you can either:\n",
      "\t- Avoid using `tokenizers` before the fork if possible\n",
      "\t- Explicitly set the environment variable TOKENIZERS_PARALLELISM=(true | false)\n"
     ]
    },
    {
     "name": "stdout",
     "output_type": "stream",
     "text": [
      "Note: you may need to restart the kernel to use updated packages.\n"
     ]
    }
   ],
   "source": [
    "%pip install -U -q langchain_huggingface\n",
    "%pip install -U -q transformers\n",
    "%pip install -U -q accelerate\n",
    "%pip install -U -q langchain_community\n",
    "%pip install -U -q umap umap-learn\n",
    "%pip install -U -q langchain_huggingface\n",
    "%pip install -U -q matplotlib\n",
    "%pip install -U -q pandas"
   ]
  },
  {
   "cell_type": "code",
   "execution_count": null,
   "metadata": {},
   "outputs": [],
   "source": [
    "from langchain_huggingface import HuggingFaceEmbeddings\n",
    "from numpy import mean, var, square, mean, ndarray, vstack, concatenate\n",
    "from matplotlib.pyplot import figure, title, imshow, colorbar, xlabel, ylabel, tight_layout, show, subplots, tight_layout, show, colorbar, scatter, annotate, grid, cm, legend\n",
    "from sentence_transformers import SentenceTransformer\n",
    "from sklearn.metrics.pairwise import cosine_similarity\n",
    "from pandas import read_parquet\n",
    "from transformers import BitsAndBytesConfig, AutoModelForCausalLM, AutoTokenizer, pipeline\n",
    "from torch import bfloat16\n",
    "from langchain.llms import HuggingFacePipeline\n",
    "from langchain.prompts import PromptTemplate\n",
    "from langchain_core.output_parsers import StrOutputParser\n",
    "from langchain_core.runnables import RunnablePassthrough"
   ]
  },
  {
   "cell_type": "code",
   "execution_count": 68,
   "metadata": {},
   "outputs": [],
   "source": [
    "splits = {\n",
    "  'test': 'en-af/test-00000-of-00001.parquet',\n",
    "  'train': 'en-af/train-00000-of-00001.parquet',\n",
    "  'validation': 'en-af/validation-00000-of-00001.parquet'\n",
    "}"
   ]
  },
  {
   "cell_type": "code",
   "execution_count": 69,
   "metadata": {},
   "outputs": [],
   "source": [
    "documents = [\n",
    "  \"The Porsche 911 Turbo S is a pinnacle of automotive engineering, combining blistering performance with timeless design. Launched as part of the iconic 911 lineup, the Turbo S represents the zenith of Porsche's commitment to performance and luxury. With its distinctive silhouette and aggressive stance, the Turbo S commands attention on the road. Under the hood lies a powerful twin-turbocharged flat-six engine, delivering an exhilarating 640 horsepower and 590 lb-ft of torque.\",\n",
    "  \"Acceleration is nothing short of breathtaking; the Turbo S can sprint from 0 to 60 mph in just 2.6 seconds. This remarkable feat is supported by Porsche's advanced all-wheel-drive system, which ensures optimal grip and stability in various driving conditions. The 8-speed dual-clutch transmission (PDK) enhances the driving experience, offering lightning-fast gear shifts that keep the driver engaged.\",\n",
    "  \"Beyond its raw power, the Turbo S boasts a sophisticated suspension system that balances comfort and performance. The Porsche Active Suspension Management (PASM) system adjusts the dampers in real-time, providing a smooth ride while maintaining agility on the track. Inside, the cabin is a blend of luxury and sportiness, featuring premium materials, ergonomic design, and cutting-edge technology.\",\n",
    "  \"Drivers are treated to an intuitive infotainment system with a high-resolution touchscreen, navigation, and smartphone integration. Safety features are abundant, including adaptive cruise control, lane-keeping assist, and a surround-view camera system. The Turbo S is also customizable, allowing buyers to select from a range of colors, materials, and performance options to suit their tastes.\",\n",
    "  \"In terms of design, the Turbo S incorporates aerodynamic elements that enhance both performance and aesthetics. The rear spoiler and active cooling ducts not only improve downforce but also give the car a striking appearance. The Turbo S is a true testament to Porsche's engineering prowess, achieving a perfect balance between speed and elegance.\",\n",
    "  \"Driving a Porsche 911 Turbo S is an experience that transcends mere transportation; it is an emotional journey. The sound of the engine, the precision of the steering, and the responsiveness of the brakes create a symphony of sensations that thrill the driver. Whether on a winding mountain road or a racetrack, the Turbo S delivers an unparalleled driving experience.\",\n",
    "  \"In conclusion, the Porsche 911 Turbo S stands as a symbol of performance, luxury, and innovation. It embodies the spirit of the brand, appealing to enthusiasts and collectors alike. With its blend of cutting-edge technology and classic design, the Turbo S is not just a car; it is a legacy.\",\n",
    "]"
   ]
  },
  {
   "cell_type": "code",
   "execution_count": 70,
   "metadata": {},
   "outputs": [],
   "source": [
    "bert_base_nli_mean_tokens_model = SentenceTransformer('sentence-transformers/bert-base-nli-mean-tokens')"
   ]
  },
  {
   "cell_type": "code",
   "execution_count": 71,
   "metadata": {},
   "outputs": [],
   "source": [
    "def generate_embeddings(model, documents: list) -> ndarray:\n",
    "  \"\"\"\n",
    "  Generate embeddings for a list of documents using the specified model.\n",
    "  \"\"\"\n",
    "  return model.encode(documents)"
   ]
  },
  {
   "cell_type": "code",
   "execution_count": 72,
   "metadata": {},
   "outputs": [],
   "source": [
    "embeddings_bert_base_nli_mean_tokens_model = generate_embeddings(bert_base_nli_mean_tokens_model, documents)"
   ]
  },
  {
   "cell_type": "code",
   "execution_count": 73,
   "metadata": {},
   "outputs": [],
   "source": [
    "text_generation_model_name = \"HuggingFaceH4/zephyr-7b-beta\""
   ]
  },
  {
   "cell_type": "code",
   "execution_count": 74,
   "metadata": {},
   "outputs": [],
   "source": [
    "bnb_config = BitsAndBytesConfig(\n",
    "    load_in_4bit=True,\n",
    "    bnb_4bit_use_double_quant=True,\n",
    "    bnb_4bit_quant_type=\"nf4\",\n",
    "    bnb_4bit_compute_dtype=bfloat16\n",
    ")"
   ]
  },
  {
   "cell_type": "code",
   "execution_count": 77,
   "metadata": {},
   "outputs": [
    {
     "name": "stderr",
     "output_type": "stream",
     "text": [
      "Downloading shards: 100%|██████████| 8/8 [03:31<00:00, 26.45s/it]\n",
      "Loading checkpoint shards: 100%|██████████| 8/8 [00:55<00:00,  6.91s/it]\n"
     ]
    }
   ],
   "source": [
    "model = AutoModelForCausalLM.from_pretrained(text_generation_model_name)"
   ]
  },
  {
   "cell_type": "code",
   "execution_count": null,
   "metadata": {},
   "outputs": [],
   "source": []
  }
 ],
 "metadata": {
  "kernelspec": {
   "display_name": "Python 3",
   "language": "python",
   "name": "python3"
  },
  "language_info": {
   "codemirror_mode": {
    "name": "ipython",
    "version": 3
   },
   "file_extension": ".py",
   "mimetype": "text/x-python",
   "name": "python",
   "nbconvert_exporter": "python",
   "pygments_lexer": "ipython3",
   "version": "3.12.8"
  }
 },
 "nbformat": 4,
 "nbformat_minor": 2
}
